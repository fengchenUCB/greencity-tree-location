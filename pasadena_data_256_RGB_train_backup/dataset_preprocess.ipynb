{
 "cells": [
  {
   "cell_type": "code",
   "execution_count": 4,
   "id": "57eb5d49-e7da-4e9b-8607-d95e20c11357",
   "metadata": {},
   "outputs": [
    {
     "name": "stdout",
     "output_type": "stream",
     "text": [
      "Mean: 27.24, Median: 26.0, Min: 1, Max: 136\n",
      "76\n",
      "10\n",
      "10\n",
      "Filtered images: 96\n",
      "Train: 76, Val: 10, Test: 10\n"
     ]
    },
    {
     "data": {
      "text/plain": [
       "0"
      ]
     },
     "execution_count": 4,
     "metadata": {},
     "output_type": "execute_result"
    }
   ],
   "source": [
    "import glob\n",
    "import os\n",
    "import numpy as np\n",
    "import matplotlib.pyplot as plt\n",
    "from sklearn.model_selection import train_test_split\n",
    "\n",
    "# Step 1: Compute histogram and statistics of tree counts in CSV files\n",
    "csv_files = glob.glob('csv/image_*.csv')\n",
    "counts = {}\n",
    "for csv_file in csv_files:\n",
    "    name = os.path.basename(csv_file).replace('.csv', '')\n",
    "    with open(csv_file, 'r') as f:\n",
    "        count = sum(1 for line in f) - 1  # Subtract 1 for header\n",
    "    counts[name] = count\n",
    "\n",
    "# Histogram\n",
    "tree_counts = list(counts.values())\n",
    "plt.figure(figsize=(10, 6))\n",
    "plt.hist(tree_counts, bins=500, color='skyblue', edgecolor='black')\n",
    "plt.title('Histogram of Number of Trees per Image')\n",
    "plt.xlabel('Number of Trees')\n",
    "plt.ylabel('Frequency')\n",
    "plt.grid(True)\n",
    "plt.savefig('tree_counts_histogram.png')\n",
    "plt.close()\n",
    "\n",
    "# Statistics\n",
    "if tree_counts:\n",
    "    mean_count = np.mean(tree_counts)\n",
    "    median_count = np.median(tree_counts)\n",
    "    min_count = np.min(tree_counts)\n",
    "    max_count = np.max(tree_counts)\n",
    "    print(f\"Mean: {mean_count:.2f}, Median: {median_count}, Min: {min_count}, Max: {max_count}\")\n",
    "else:\n",
    "    print(\"No CSV files found.\")\n",
    "\n",
    "# Step 2: Filter images with >=30 trees\n",
    "threshold = 55\n",
    "filtered_images = [name for name, count in counts.items() if count >= threshold]\n",
    "\n",
    "# Split into 60% train, 20% val, 20% test\n",
    "seed_m = 30\n",
    "train, temp = train_test_split(filtered_images, test_size=0.2, random_state=seed_m)\n",
    "val, test = train_test_split(temp, test_size=0.5, random_state=seed_m)\n",
    "\n",
    "print(len(train))\n",
    "print(len(test))\n",
    "print(len(val))\n",
    "\n",
    "# Write to files\n",
    "with open('train.txt', 'w') as f:\n",
    "    f.write('\\n'.join(train) + '\\n')\n",
    "with open('val.txt', 'w') as f:\n",
    "    f.write('\\n'.join(val) + '\\n')\n",
    "with open('test.txt', 'w') as f:\n",
    "    f.write('\\n'.join(test) + '\\n')\n",
    "\n",
    "print(f\"Filtered images: {len(filtered_images)}\")\n",
    "print(f\"Train: {len(train)}, Val: {len(val)}, Test: {len(test)}\")\n",
    "\n",
    "os.system(\"\"\"grep -v \"^image_\" ../pasadena_data_256_RGB_train_original/test.txt >> ./test.txt\"\"\")\n",
    "os.system(\"\"\"grep -v \"^image_\" ../pasadena_data_256_RGB_train_original/train.txt >> ./train.txt\"\"\")\n",
    "os.system(\"\"\"grep -v \"^image_\" ../pasadena_data_256_RGB_train_original/val.txt >> ./val.txt\"\"\")\n"
   ]
  },
  {
   "cell_type": "code",
   "execution_count": null,
   "id": "bb44d0bb-4eea-4f35-b942-7807c8d92a74",
   "metadata": {},
   "outputs": [],
   "source": []
  }
 ],
 "metadata": {
  "kernelspec": {
   "display_name": "Python (GreenCity)",
   "language": "python",
   "name": "greencityenv"
  },
  "language_info": {
   "codemirror_mode": {
    "name": "ipython",
    "version": 3
   },
   "file_extension": ".py",
   "mimetype": "text/x-python",
   "name": "python",
   "nbconvert_exporter": "python",
   "pygments_lexer": "ipython3",
   "version": "3.12.7"
  }
 },
 "nbformat": 4,
 "nbformat_minor": 5
}
